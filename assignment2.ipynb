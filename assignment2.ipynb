{
 "cells": [
  {
   "cell_type": "markdown",
   "id": "d2c6be12-d455-402d-b72b-e180218eeb58",
   "metadata": {},
   "source": [
    "Q1  Comments in Python are the lines in the code that are ignored by the interpreter during the execution of the program. Comments enhance the readability of the code and help the programmers to understand the code very carefully. \n",
    "\n",
    "There are three types of comments in Python:\n",
    "\n",
    "Single line Comments\n",
    "Multiline Comments\n",
    "Docstring Comments\n",
    "\n",
    "Types of Comments in Python\n",
    "Single-Line Comments in Python\n",
    "Python single-line comment starts with the hashtag symbol (#) with no white spaces and lasts till the end of the line. If the comment exceeds one line then put a hashtag on the next line and continue the Python Comments. Python’s single-line comments are proved useful for supplying short explanations for variables, function declarations, and expressions. \n",
    "    Multi-Line Comments in Python\n",
    "Python does not provide the option for multiline comments. However, there are different ways through which we can write multiline comments.\n",
    "\n",
    "Multiline comments using multiple hashtags (#)\n",
    "    String Literals In Python\n",
    "Python ignores the string literals that are not assigned to a variable so we can use these string literals as Python Comments. \n",
    "\n",
    "Single-line comments using string literals\n",
    "\n",
    "On executing the above code we can see that there will not be any output so we use the strings with triple quotes(“””) as multiline comments."
   ]
  },
  {
   "cell_type": "markdown",
   "id": "d00cda39-ec3c-4d2a-b6e1-4d5c477c51bd",
   "metadata": {},
   "source": [
    "Q2  In Python, we need not declare a variable with some specific data type.\n",
    "\n",
    "Python has no command for declaring a variable. A variable is created when some value is assigned to it. The value assigned to a variable determines the data type of that variable.\n",
    "\n",
    "Thus, declaring a variable in Python is very simple.\n",
    "\n",
    "Just name the variable\n",
    "\n",
    "Assign the required value to it\n",
    "\n",
    "The data type of the variable will be automatically determined from the value assigned, we need not define it explicitly.\n",
    "\n",
    "Declare an integer variable\n",
    "To declare an integer variable −\n",
    "\n",
    "Name the variable\n",
    "\n",
    "Assign an integer value to it"
   ]
  },
  {
   "cell_type": "code",
   "execution_count": 1,
   "id": "032b2db0-db19-4b16-96e9-ac6dbd5f2836",
   "metadata": {},
   "outputs": [
    {
     "name": "stdout",
     "output_type": "stream",
     "text": [
      "2\n",
      "<class 'int'>\n"
     ]
    }
   ],
   "source": [
    "x=2\n",
    "print(x)\n",
    "print(type(x))"
   ]
  },
  {
   "cell_type": "markdown",
   "id": "4dcfebbc-4d7f-45c6-93b5-e58d8a10f45c",
   "metadata": {},
   "source": [
    "Q3 ype conversion is the process of converting one data type to another. There can be two types of type conversion in Python –\n",
    "\n",
    "Implicit Type Conversion\n",
    "Explicit Type Conversion\n"
   ]
  },
  {
   "cell_type": "code",
   "execution_count": 2,
   "id": "d2ffa716-4af6-405b-ad3b-b34bdb012ff1",
   "metadata": {},
   "outputs": [
    {
     "name": "stdout",
     "output_type": "stream",
     "text": [
      "<class 'int'>\n",
      "<class 'float'>\n",
      "5.0\n",
      "<class 'float'>\n"
     ]
    }
   ],
   "source": [
    "\n",
    "a = 5\n",
    "print(type(a))\n",
    "\n",
    "b = 1.0\n",
    "print(type(b))\n",
    "\n",
    "c = a//b\n",
    "print(c)\n",
    "print(type(c))\n"
   ]
  },
  {
   "cell_type": "code",
   "execution_count": 3,
   "id": "5899ae23-820d-4a26-95ff-ee3b133c1fe4",
   "metadata": {},
   "outputs": [
    {
     "name": "stdout",
     "output_type": "stream",
     "text": [
      "10\n",
      "<class 'str'>\n"
     ]
    }
   ],
   "source": [
    "a = 10\n",
    "s = str(a)\n",
    "print(s)\n",
    "print(type(s))"
   ]
  },
  {
   "cell_type": "markdown",
   "id": "c97b357e-e166-43d5-aa59-da15e4459ebf",
   "metadata": {},
   "source": [
    "Q4 Python is a well-known high-level programming language. The Python script is basically a file containing code written in Python. The file containing Python script has the extension ‘.py’ or can also have the extension ‘.pyw’ if it is being run on a Windows machine. In this article, we will learn how to run a Python program. To run a Python script, we need a Python interpreter that needs to be downloaded and installed.\n",
    "\n",
    "Different ways to run Python Script\n",
    "Here are the ways using which we can run a Python script.\n",
    "\n",
    "Interactive Mode\n",
    "Command Line\n",
    "Text Editor (VS Code)\n",
    "IDE (PyCharm)\n",
    "Here is a simple Python script to print ‘Hello World!’."
   ]
  },
  {
   "cell_type": "code",
   "execution_count": 5,
   "id": "bb0fa17e-ed26-4c07-a3c9-81760c994002",
   "metadata": {},
   "outputs": [
    {
     "name": "stdout",
     "output_type": "stream",
     "text": [
      "b is Greater\n"
     ]
    }
   ],
   "source": [
    "a = 1\n",
    "b = 3\n",
    "if a > b:\n",
    "    print(\"a is Greater\") \n",
    "else:\n",
    "    print(\"b is Greater\")"
   ]
  },
  {
   "cell_type": "code",
   "execution_count": 6,
   "id": "71379de5-5476-44f9-a3b8-0a89247a8aaa",
   "metadata": {},
   "outputs": [
    {
     "data": {
      "text/plain": [
       "[2, 3]"
      ]
     },
     "execution_count": 6,
     "metadata": {},
     "output_type": "execute_result"
    }
   ],
   "source": [
    "# Q5\n",
    "my_list=[1,2,3,4,5]\n",
    "c=my_list[1:3]\n",
    "list(c)\n"
   ]
  },
  {
   "cell_type": "markdown",
   "id": "c79e452e-c018-40d4-b18e-ed917f1ec183",
   "metadata": {},
   "source": [
    "Q 6 \n",
    "ot only real numbers, Python can also handle complex numbers and its associated functions using the file “cmath”. Complex numbers have their uses in many applications related to mathematics and python provides useful tools to handle and manipulate them. Converting real numbers to complex number An complex number is represented by “ x + yi “. Python converts the real numbers x and y into complex using the function complex(x,y). The real part can be accessed using the function real() and imaginary part can be represented by imag(). "
   ]
  },
  {
   "cell_type": "code",
   "execution_count": 8,
   "id": "62f37ea0-429c-40b3-8ad7-c422fdeff986",
   "metadata": {},
   "outputs": [
    {
     "name": "stdout",
     "output_type": "stream",
     "text": [
      "The real part of complex number is : 5.0\n",
      "The imaginary part of complex number is : 3.0\n"
     ]
    }
   ],
   "source": [
    "x = 5\n",
    "y = 3\n",
    "z = complex(x,y)\n",
    "print (\"The real part of complex number is : \",end=\"\")\n",
    "print (z.real)\n",
    "print (\"The imaginary part of complex number is : \",end=\"\")\n",
    "print (z.imag)\n"
   ]
  },
  {
   "cell_type": "code",
   "execution_count": 11,
   "id": "79ce4e22-debd-4583-9046-fc3612315dc8",
   "metadata": {},
   "outputs": [
    {
     "name": "stdout",
     "output_type": "stream",
     "text": [
      "{'age': 25}\n"
     ]
    },
    {
     "data": {
      "text/plain": [
       "25"
      ]
     },
     "execution_count": 11,
     "metadata": {},
     "output_type": "execute_result"
    }
   ],
   "source": [
    "# Q7\n",
    "\n",
    "dic1={\"age\":25}\n",
    "print(dic1)\n",
    "\n",
    "# Or\n",
    "\n",
    "age=25\n",
    "age"
   ]
  },
  {
   "cell_type": "code",
   "execution_count": 12,
   "id": "7b2e0cd9-077f-4137-a212-0c7beb2791c6",
   "metadata": {},
   "outputs": [
    {
     "data": {
      "text/plain": [
       "float"
      ]
     },
     "execution_count": 12,
     "metadata": {},
     "output_type": "execute_result"
    }
   ],
   "source": [
    "# Q8 \n",
    "price=9.9\n",
    "price\n",
    "type(price)"
   ]
  },
  {
   "cell_type": "code",
   "execution_count": 14,
   "id": "d94ce751-b70f-46b4-9afc-a461abe8b373",
   "metadata": {},
   "outputs": [
    {
     "name": "stdout",
     "output_type": "stream",
     "text": [
      "{'price': 9.9}\n"
     ]
    },
    {
     "data": {
      "text/plain": [
       "dict"
      ]
     },
     "execution_count": 14,
     "metadata": {},
     "output_type": "execute_result"
    }
   ],
   "source": [
    "a={\"price\":9.9}\n",
    "print(a)\n",
    "type(a)"
   ]
  },
  {
   "cell_type": "code",
   "execution_count": 15,
   "id": "5bbc9bbd-7de5-4d80-9a9e-88dc3d9fe9ff",
   "metadata": {},
   "outputs": [
    {
     "name": "stdout",
     "output_type": "stream",
     "text": [
      "Himanshi Narendra Kawade\n"
     ]
    }
   ],
   "source": [
    "# Q9 \n",
    "name=\"Himanshi Narendra Kawade\"\n",
    "print(name)"
   ]
  },
  {
   "cell_type": "code",
   "execution_count": 16,
   "id": "49ed48a8-8a06-456d-a490-50e85f8d1b7b",
   "metadata": {},
   "outputs": [
    {
     "data": {
      "text/plain": [
       "'World'"
      ]
     },
     "execution_count": 16,
     "metadata": {},
     "output_type": "execute_result"
    }
   ],
   "source": [
    "# Q10\n",
    "\n",
    "a=\"Hello, World!\"\n",
    "b=a[7:12]\n",
    "b"
   ]
  },
  {
   "cell_type": "code",
   "execution_count": null,
   "id": "ef9b2f3b-42ce-46b8-92ab-a065e12c4601",
   "metadata": {},
   "outputs": [],
   "source": [
    "# Q11\n",
    "is_student\n",
    "age=int(input('eneter your age'))\n",
    "if age>60:\n",
    "    is_student=False\n",
    "else:\n",
    "    is_student=True\n"
   ]
  },
  {
   "cell_type": "code",
   "execution_count": null,
   "id": "10f6c070-127d-4444-802c-5899e23d63fc",
   "metadata": {},
   "outputs": [],
   "source": []
  }
 ],
 "metadata": {
  "kernelspec": {
   "display_name": "Python 3 (ipykernel)",
   "language": "python",
   "name": "python3"
  },
  "language_info": {
   "codemirror_mode": {
    "name": "ipython",
    "version": 3
   },
   "file_extension": ".py",
   "mimetype": "text/x-python",
   "name": "python",
   "nbconvert_exporter": "python",
   "pygments_lexer": "ipython3",
   "version": "3.10.8"
  }
 },
 "nbformat": 4,
 "nbformat_minor": 5
}
