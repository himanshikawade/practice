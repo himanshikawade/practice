{
 "cells": [
  {
   "cell_type": "code",
   "execution_count": 35,
   "id": "6b859278-52a9-435f-84d0-b37e59b8b424",
   "metadata": {},
   "outputs": [
    {
     "data": {
      "text/plain": [
       "'himanhi'"
      ]
     },
     "execution_count": 35,
     "metadata": {},
     "output_type": "execute_result"
    }
   ],
   "source": [
    "# Q 1 (a)\n",
    "a='himanhi'\n",
    "a"
   ]
  },
  {
   "cell_type": "code",
   "execution_count": 2,
   "id": "8d3939cc-eaa0-4694-9534-12f06bc12205",
   "metadata": {},
   "outputs": [
    {
     "data": {
      "text/plain": [
       "[10, 10.0, True, (4+5j), 'kawade']"
      ]
     },
     "execution_count": 2,
     "metadata": {},
     "output_type": "execute_result"
    }
   ],
   "source": [
    "#Q.1 (b)\n",
    "b=[10,10.0,True,4+5j,'kawade']\n",
    "b"
   ]
  },
  {
   "cell_type": "code",
   "execution_count": 3,
   "id": "e0729d14-9359-46ff-aedd-7b15085be899",
   "metadata": {},
   "outputs": [
    {
     "data": {
      "text/plain": [
       "15.96"
      ]
     },
     "execution_count": 3,
     "metadata": {},
     "output_type": "execute_result"
    }
   ],
   "source": [
    "# Q 1(c)\n",
    "\n",
    "c=15.96\n",
    "c"
   ]
  },
  {
   "cell_type": "code",
   "execution_count": 6,
   "id": "840fefee-6026-49b7-b698-7d1f87c26a1d",
   "metadata": {},
   "outputs": [
    {
     "data": {
      "text/plain": [
       "(10, 20, 30, 40, 50)"
      ]
     },
     "execution_count": 6,
     "metadata": {},
     "output_type": "execute_result"
    }
   ],
   "source": [
    "# q 1(d)\n",
    " \n",
    "d=(10,20,30,40,50)\n",
    "d\n"
   ]
  },
  {
   "cell_type": "code",
   "execution_count": 8,
   "id": "1465770e-7486-43fd-bcb9-967eba35e48c",
   "metadata": {},
   "outputs": [
    {
     "data": {
      "text/plain": [
       "([10, 10.0, True, (4+5j), 'kawade', (10, 20, 30, 40, 50)],\n",
       " 10,\n",
       " 15.6485,\n",
       " 'himanshi')"
      ]
     },
     "execution_count": 8,
     "metadata": {},
     "output_type": "execute_result"
    }
   ],
   "source": [
    " # Q.1 in single variavble all the values\n",
    "    \n",
    "variable=[10,10.0,True,4+5j,'kawade',(10,20,30,40,50)],10,15.6485,'himanshi'\n",
    "variable"
   ]
  },
  {
   "cell_type": "code",
   "execution_count": 9,
   "id": "ba5f05ab-59da-400d-a43c-c9c95509a4f6",
   "metadata": {},
   "outputs": [
    {
     "data": {
      "text/plain": [
       "str"
      ]
     },
     "execution_count": 9,
     "metadata": {},
     "output_type": "execute_result"
    }
   ],
   "source": [
    " # Q.2 (1)\n",
    "var=' '\n",
    "type(var)"
   ]
  },
  {
   "cell_type": "code",
   "execution_count": 11,
   "id": "6c198bca-bf04-4807-90ca-e632759bf39c",
   "metadata": {},
   "outputs": [
    {
     "data": {
      "text/plain": [
       "str"
      ]
     },
     "execution_count": 11,
     "metadata": {},
     "output_type": "execute_result"
    }
   ],
   "source": [
    " # Q.2 (2)\n",
    "var1='[ DS , ML , Python]'\n",
    "type(var1)"
   ]
  },
  {
   "cell_type": "code",
   "execution_count": 14,
   "id": "094341ee-8d5e-4fdd-a5b4-79a6b5a976a7",
   "metadata": {},
   "outputs": [
    {
     "data": {
      "text/plain": [
       "list"
      ]
     },
     "execution_count": 14,
     "metadata": {},
     "output_type": "execute_result"
    }
   ],
   "source": [
    "# Q2 (3)\n",
    "var3 = [ 'DS','ML' , 'Python' ]\n",
    "type(var3)"
   ]
  },
  {
   "cell_type": "code",
   "execution_count": 15,
   "id": "b0418357-4f58-4863-b27e-db8277e83274",
   "metadata": {},
   "outputs": [
    {
     "data": {
      "text/plain": [
       "int"
      ]
     },
     "execution_count": 15,
     "metadata": {},
     "output_type": "execute_result"
    }
   ],
   "source": [
    "# Q2 (4)\n",
    "var4 = 1\n",
    "type(var4)"
   ]
  },
  {
   "cell_type": "code",
   "execution_count": 16,
   "id": "d146df7c-b001-482e-851b-057db90ce50a",
   "metadata": {},
   "outputs": [
    {
     "data": {
      "text/plain": [
       "5.0"
      ]
     },
     "execution_count": 16,
     "metadata": {},
     "output_type": "execute_result"
    }
   ],
   "source": [
    "# Q3 (1)\n",
    "\n",
    "a=10\n",
    "b=2\n",
    "c=a/b\n",
    "c"
   ]
  },
  {
   "cell_type": "code",
   "execution_count": 17,
   "id": "17ddce35-c80f-464b-be33-5ef1737f6791",
   "metadata": {},
   "outputs": [
    {
     "data": {
      "text/plain": [
       "9"
      ]
     },
     "execution_count": 17,
     "metadata": {},
     "output_type": "execute_result"
    }
   ],
   "source": [
    "# Q3 (2)\n",
    "a=153\n",
    "b=16\n",
    "c=a%b\n",
    "c"
   ]
  },
  {
   "cell_type": "code",
   "execution_count": 18,
   "id": "f3349c7c-9846-4082-a95c-8f5788cc764b",
   "metadata": {},
   "outputs": [
    {
     "data": {
      "text/plain": [
       "8"
      ]
     },
     "execution_count": 18,
     "metadata": {},
     "output_type": "execute_result"
    }
   ],
   "source": [
    "# Q3 (3)\n",
    "a=160\n",
    "b=20\n",
    "c=a//b\n",
    "c"
   ]
  },
  {
   "cell_type": "code",
   "execution_count": 19,
   "id": "7edb6dc4-8434-4839-8cf6-b5ac337d0c2e",
   "metadata": {},
   "outputs": [
    {
     "data": {
      "text/plain": [
       "81"
      ]
     },
     "execution_count": 19,
     "metadata": {},
     "output_type": "execute_result"
    }
   ],
   "source": [
    "# Q3 (4)\n",
    "a=9\n",
    "b=2\n",
    "c=a**b\n",
    "c"
   ]
  },
  {
   "cell_type": "code",
   "execution_count": 20,
   "id": "5fe5988e-48d0-4b9f-b456-098917cdeacb",
   "metadata": {},
   "outputs": [
    {
     "name": "stdout",
     "output_type": "stream",
     "text": [
      "10\n",
      "<class 'int'>\n",
      "15.65789\n",
      "<class 'float'>\n",
      "True\n",
      "<class 'bool'>\n",
      "False\n",
      "<class 'bool'>\n",
      "himanshi\n",
      "<class 'str'>\n",
      "pwskilss\n",
      "<class 'str'>\n",
      "kawade\n",
      "<class 'str'>\n",
      "(4+5j)\n",
      "<class 'complex'>\n",
      "19\n",
      "<class 'int'>\n",
      "258.6455\n",
      "<class 'float'>\n",
      "(9+85j)\n",
      "<class 'complex'>\n"
     ]
    }
   ],
   "source": [
    "# Q4\n",
    "list=[10,15.65789,True,False,'himanshi','pwskilss','kawade',4+5j,19,258.6455,9+85j]\n",
    "for i in list:\n",
    "    print(i)\n",
    "    print(type(i))"
   ]
  },
  {
   "cell_type": "code",
   "execution_count": 53,
   "id": "584dcf9a-a48f-4045-be4e-35a7f74a5595",
   "metadata": {},
   "outputs": [
    {
     "name": "stdout",
     "output_type": "stream",
     "text": [
      "100 is purely divisible by 5 and can be divided 2 times.\n"
     ]
    }
   ],
   "source": [
    "# Q5\n",
    "\n",
    "def count_divisible(a, b):\n",
    "    if b == 0:\n",
    "        return \"Cannot divide by zero.\"\n",
    "\n",
    "    count = 0\n",
    "    while a >= b:\n",
    "        if a % b == 0:\n",
    "            count += 1\n",
    "            a = a // b  # Integer division to get the result of the division without remainder\n",
    "        else:\n",
    "            break\n",
    "\n",
    "    return count\n",
    "\n",
    "num_A = 100\n",
    "num_B = 5\n",
    "result = count_divisible(num_A, num_B)\n",
    "\n",
    "if result > 0:\n",
    "    print(f\"{num_A} is purely divisible by {num_B} and can be divided {result} times.\")\n",
    "else:\n",
    "    print(f\"{num_A} is not purely divisible by {num_B}.\")\n",
    "\n"
   ]
  },
  {
   "cell_type": "code",
   "execution_count": 50,
   "id": "5c65705b-5a22-48e6-97b7-c797de6a622e",
   "metadata": {},
   "outputs": [
    {
     "name": "stdout",
     "output_type": "stream",
     "text": [
      "1\n",
      "the no in list is not divisible by 3\n",
      "2\n",
      "the no in list is not divisible by 3\n",
      "3\n",
      "the no in the list is divisible by 3\n",
      "3\n",
      "4\n",
      "the no in list is not divisible by 3\n",
      "5\n",
      "the no in list is not divisible by 3\n",
      "6\n",
      "the no in the list is divisible by 3\n",
      "6\n",
      "7\n",
      "the no in list is not divisible by 3\n",
      "8\n",
      "the no in list is not divisible by 3\n",
      "9\n",
      "the no in the list is divisible by 3\n",
      "9\n",
      "10\n",
      "the no in list is not divisible by 3\n",
      "11\n",
      "the no in list is not divisible by 3\n",
      "12\n",
      "the no in the list is divisible by 3\n",
      "12\n",
      "13\n",
      "the no in list is not divisible by 3\n",
      "14\n",
      "the no in list is not divisible by 3\n",
      "15\n",
      "the no in the list is divisible by 3\n",
      "15\n",
      "16\n",
      "the no in list is not divisible by 3\n",
      "17\n",
      "the no in list is not divisible by 3\n",
      "18\n",
      "the no in the list is divisible by 3\n",
      "18\n",
      "19\n",
      "the no in list is not divisible by 3\n",
      "20\n",
      "the no in list is not divisible by 3\n",
      "21\n",
      "the no in the list is divisible by 3\n",
      "21\n",
      "22\n",
      "the no in list is not divisible by 3\n",
      "23\n",
      "the no in list is not divisible by 3\n",
      "24\n",
      "the no in the list is divisible by 3\n",
      "24\n",
      "25\n",
      "the no in list is not divisible by 3\n"
     ]
    }
   ],
   "source": [
    "# Q6\n",
    "list=[1,2,3,4,5,6,7,8,9,10,11,12,13,14,15,16,17,18,19,20,21,22,23,24,25]\n",
    "for i in list:\n",
    "    print(i)\n",
    "    if i%3==0:\n",
    "        print(\"the no in the list is divisible by 3\")\n",
    "        print(i)\n",
    "    else:\n",
    "         print(\"the no in list is not divisible by 3\")\n",
    "\n",
    "   \n",
    "        \n"
   ]
  },
  {
   "cell_type": "code",
   "execution_count": null,
   "id": "0997591e-b968-4516-93b6-d8e3a33eb48a",
   "metadata": {},
   "outputs": [],
   "source": [
    "# Q 7 \n",
    "\"\"\"\n",
    "\n",
    "In Python, data types can be classified as either mutable or immutable based on whether their values can be changed after creation or not. Understanding the distinction between mutable and immutable data types is crucial because it affects how variables behave and how data is stored and manipulated in memory.\n",
    "\n",
    "Mutable Data Types:\n",
    "Mutable data types are those whose values can be modified after creation. This means that you can change the content or elements of a mutable object without creating a new object. Some common mutable data types in Python include:\n",
    "Lists\n",
    "Dictionaries\n",
    "Sets\n",
    "\n",
    "\n",
    "Immutable Data Types:\n",
    "Immutable data types are those whose values cannot be changed after creation. When you attempt to modify an immutable object, a new object is created with the updated value, leaving the original object unchanged. Some common immutable data types in Python include:\n",
    "Integers\n",
    "Floats\n",
    "Strings\n",
    "Tuples\n",
    "\"\"\""
   ]
  },
  {
   "cell_type": "code",
   "execution_count": 54,
   "id": "1ade5446-4a5a-452f-861c-e2dbc4246bcc",
   "metadata": {},
   "outputs": [
    {
     "name": "stdout",
     "output_type": "stream",
     "text": [
      "3\n"
     ]
    },
    {
     "data": {
      "text/plain": [
       "[1, 2, 3, 4, 5, 6, 10]"
      ]
     },
     "execution_count": 54,
     "metadata": {},
     "output_type": "execute_result"
    }
   ],
   "source": [
    "#Q 7  code  for mutable data\n",
    "list=[1,2,3,4,5,6]\n",
    "print(list[2])\n",
    "list.append(10)\n",
    "list"
   ]
  },
  {
   "cell_type": "code",
   "execution_count": 57,
   "id": "5e28fddb-75ae-4244-bd76-6e1dafdc098a",
   "metadata": {},
   "outputs": [
    {
     "data": {
      "text/plain": [
       "'HimansHi'"
      ]
     },
     "execution_count": 57,
     "metadata": {},
     "output_type": "execute_result"
    }
   ],
   "source": [
    "# Q7 code for immutable data\n",
    "h='himanshi'\n",
    "h[0]\n",
    "k=h.replace('h','H')\n",
    "k"
   ]
  },
  {
   "cell_type": "code",
   "execution_count": null,
   "id": "c47d0396-5194-493b-8c78-377b3df599c7",
   "metadata": {},
   "outputs": [],
   "source": []
  }
 ],
 "metadata": {
  "kernelspec": {
   "display_name": "Python 3 (ipykernel)",
   "language": "python",
   "name": "python3"
  },
  "language_info": {
   "codemirror_mode": {
    "name": "ipython",
    "version": 3
   },
   "file_extension": ".py",
   "mimetype": "text/x-python",
   "name": "python",
   "nbconvert_exporter": "python",
   "pygments_lexer": "ipython3",
   "version": "3.10.8"
  }
 },
 "nbformat": 4,
 "nbformat_minor": 5
}
