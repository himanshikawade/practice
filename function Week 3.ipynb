{
 "cells": [
  {
   "cell_type": "code",
   "execution_count": 8,
   "id": "161a67f7-cdd6-4cc3-9898-3daff833873e",
   "metadata": {},
   "outputs": [
    {
     "name": "stdout",
     "output_type": "stream",
     "text": [
      "('Virat Kohli', 24936)\n",
      "('Jack Kallis', 25534)\n",
      "('Ricky Ponting', 27483)\n",
      "('Sachin Tendulkar', 34357)\n"
     ]
    }
   ],
   "source": [
    "l=[('Sachin Tendulkar', 34357), ('Ricky Ponting', 27483), ('Jack Kallis', 25534), ('Virat Kohli', 24936)]\n",
    "sorted_data = sorted(l, key=lambda x: x[1])\n",
    "\n",
    "for item in sorted_data:\n",
    "    print(item)"
   ]
  },
  {
   "cell_type": "markdown",
   "id": "2771a4d5-cdaa-47dd-8e53-74003766e808",
   "metadata": {},
   "source": [
    "Q2"
   ]
  },
  {
   "cell_type": "code",
   "execution_count": 14,
   "id": "2a6088c8-41f8-4c5b-b01f-e2f59b6392be",
   "metadata": {},
   "outputs": [
    {
     "data": {
      "text/plain": [
       "[1, 4, 9, 16, 25, 36, 49, 64, 81, 100]"
      ]
     },
     "execution_count": 14,
     "metadata": {},
     "output_type": "execute_result"
    }
   ],
   "source": [
    "a=[1, 2, 3, 4, 5, 6, 7, 8, 9, 10]\n",
    "list(map(lambda x:x**2,a )) "
   ]
  },
  {
   "cell_type": "code",
   "execution_count": 15,
   "id": "09663a5c-9d22-4779-9fcd-09ab182b4ce2",
   "metadata": {},
   "outputs": [
    {
     "data": {
      "text/plain": [
       "('1', '2', '3', '4', '5', '6', '7', '8', '9', '10')"
      ]
     },
     "execution_count": 15,
     "metadata": {},
     "output_type": "execute_result"
    }
   ],
   "source": [
    "# Q3\n",
    "x1=[1, 2, 3, 4, 5, 6, 7, 8, 9, 10]\n",
    "tuple(map(lambda x:str(x),x1))"
   ]
  },
  {
   "cell_type": "markdown",
   "id": "57a9dfe9-8a3d-46a8-99de-d5542825e4b6",
   "metadata": {},
   "source": [
    "Q4"
   ]
  },
  {
   "cell_type": "code",
   "execution_count": 35,
   "id": "aa54fe44-88cd-475e-b882-6d2c6c9a0750",
   "metadata": {},
   "outputs": [
    {
     "data": {
      "text/plain": [
       "15511210043330985984000000"
      ]
     },
     "execution_count": 35,
     "metadata": {},
     "output_type": "execute_result"
    }
   ],
   "source": [
    "from functools import reduce\n",
    "n=list(range(1,26))\n",
    "reduce(lambda x,y:x*y,n)\n",
    "\n"
   ]
  },
  {
   "cell_type": "markdown",
   "id": "9890472f-70d2-41bf-b0fe-28fb9c2bec57",
   "metadata": {},
   "source": [
    "Q5"
   ]
  },
  {
   "cell_type": "code",
   "execution_count": 38,
   "id": "e61613a9-b7df-4c22-ac28-2e4d8c9f0621",
   "metadata": {},
   "outputs": [
    {
     "name": "stdout",
     "output_type": "stream",
     "text": [
      "[2, 3, 6, 9, 27, 60, 90, 120, 55, 46]\n",
      "[2, 3, 6, 9, 27, 60, 90, 120, 55, 46]\n"
     ]
    }
   ],
   "source": [
    "b=[2, 3, 6, 9, 27, 60, 90, 120, 55, 46]\n",
    "print(list(filter(lambda x:x/2,b)))\n",
    "print(list(filter(lambda x:x/3,b)))"
   ]
  },
  {
   "cell_type": "markdown",
   "id": "92164120-535c-44bd-b3ae-8f0cff1fb2e0",
   "metadata": {},
   "source": [
    "Q6"
   ]
  },
  {
   "cell_type": "code",
   "execution_count": 39,
   "id": "9d43ed90-4ccc-46c4-933b-a35ad6dd540c",
   "metadata": {},
   "outputs": [
    {
     "data": {
      "text/plain": [
       "['php', 'aba', 'radar', 'level']"
      ]
     },
     "execution_count": 39,
     "metadata": {},
     "output_type": "execute_result"
    }
   ],
   "source": [
    "st=['python', 'php', 'aba', 'radar', 'level']\n",
    "list(filter(lambda s:s==s[::-1],st))"
   ]
  },
  {
   "cell_type": "code",
   "execution_count": null,
   "id": "60837304-635b-42e7-b00a-6b3c74c8b41f",
   "metadata": {},
   "outputs": [],
   "source": []
  }
 ],
 "metadata": {
  "kernelspec": {
   "display_name": "Python 3 (ipykernel)",
   "language": "python",
   "name": "python3"
  },
  "language_info": {
   "codemirror_mode": {
    "name": "ipython",
    "version": 3
   },
   "file_extension": ".py",
   "mimetype": "text/x-python",
   "name": "python",
   "nbconvert_exporter": "python",
   "pygments_lexer": "ipython3",
   "version": "3.10.8"
  }
 },
 "nbformat": 4,
 "nbformat_minor": 5
}
