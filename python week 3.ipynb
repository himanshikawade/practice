{
 "cells": [
  {
   "cell_type": "markdown",
   "id": "76e1408f-5208-439c-8cea-e162f05ca2c8",
   "metadata": {},
   "source": [
    "Q1 the def keyword is used to create function"
   ]
  },
  {
   "cell_type": "code",
   "execution_count": 12,
   "id": "afb4d5ff-f560-40fb-987f-c6ed8a6bce90",
   "metadata": {},
   "outputs": [],
   "source": [
    "def odd():\n",
    "    a=[]\n",
    "    for i in range(1,25):\n",
    "        if i%2!=0:\n",
    "            a.append(i)\n",
    "    print(a)\n",
    "        \n",
    "    \n",
    "      "
   ]
  },
  {
   "cell_type": "code",
   "execution_count": 13,
   "id": "36ced82b-027d-4896-9e7a-4971651e4bb8",
   "metadata": {},
   "outputs": [
    {
     "name": "stdout",
     "output_type": "stream",
     "text": [
      "[1, 3, 5, 7, 9, 11, 13, 15, 17, 19, 21, 23]\n"
     ]
    }
   ],
   "source": [
    "odd()"
   ]
  },
  {
   "cell_type": "markdown",
   "id": "b7978640-eb3c-4333-a324-2f5b7d6c82be",
   "metadata": {},
   "source": [
    "Q2  args specifies the number of non-keyworded arguments that can be passed and the operations that can be performed on the function in Python whereas **kwargs is a variable number of keyworded arguments that can be passed to a function that can perform dictionary operations."
   ]
  },
  {
   "cell_type": "code",
   "execution_count": 18,
   "id": "fe2beac1-e01b-4d9d-9ff2-5e151ca37a32",
   "metadata": {},
   "outputs": [
    {
     "name": "stdout",
     "output_type": "stream",
     "text": [
      "the   number: (56, 78)\n"
     ]
    }
   ],
   "source": [
    "def mul(*args):\n",
    "    return (args)\n",
    "print(\"the   number:\",mul(56,78))\n",
    "    "
   ]
  },
  {
   "cell_type": "code",
   "execution_count": 22,
   "id": "2142ff96-899e-468c-95a5-fb2a73254463",
   "metadata": {},
   "outputs": [
    {
     "data": {
      "text/plain": [
       "{'a': 10, 'b': 5, 'c': 156, 'd': 478, 'e': 92}"
      ]
     },
     "execution_count": 22,
     "metadata": {},
     "output_type": "execute_result"
    }
   ],
   "source": [
    "def teat(**kargs):\n",
    "    return(kargs)\n",
    "teat(a=10,b=5,c=156,d=478,e=92)"
   ]
  },
  {
   "cell_type": "markdown",
   "id": "be3cca2d-8f2f-4e64-ba9e-b17e1331aa3e",
   "metadata": {},
   "source": [
    "Q3 An iterator is an object that contains a countable number of values.\n",
    "\n",
    "An iterator is an object that can be iterated upon, meaning that you can traverse through all the values."
   ]
  },
  {
   "cell_type": "code",
   "execution_count": 28,
   "id": "9074fdc9-a421-4209-9ca2-cc5207f4b1f9",
   "metadata": {},
   "outputs": [
    {
     "data": {
      "text/plain": [
       "[2, 4, 6, 8, 10]"
      ]
     },
     "execution_count": 28,
     "metadata": {},
     "output_type": "execute_result"
    }
   ],
   "source": [
    "l1= [2, 4, 6, 8, 10, 12, 14, 16,18,20]\n",
    "l1[0:5]\n"
   ]
  },
  {
   "cell_type": "markdown",
   "id": "e80188cf-a134-4f41-9ca1-0bb6456874ed",
   "metadata": {},
   "source": [
    "Q4 Generator functions behave and look just like normal functions, but with one defining characteristic. \n",
    "yield keyword is used to create a generator function. A type of function that is memory efficient and can be used like an iterator object."
   ]
  },
  {
   "cell_type": "code",
   "execution_count": 30,
   "id": "cf4c6989-9f38-4225-953f-bc9437c1c58d",
   "metadata": {},
   "outputs": [],
   "source": [
    "def f1(n):\n",
    "    a,b=10,20\n",
    "    for i in range(n):\n",
    "        yield a\n",
    "        a,b=b,a+b"
   ]
  },
  {
   "cell_type": "code",
   "execution_count": 35,
   "id": "5c06fec5-eaaa-405c-a7c1-b8c50d2752c5",
   "metadata": {},
   "outputs": [
    {
     "data": {
      "text/plain": [
       "[10, 20, 30, 50, 80]"
      ]
     },
     "execution_count": 35,
     "metadata": {},
     "output_type": "execute_result"
    }
   ],
   "source": [
    "list(f1(5))"
   ]
  },
  {
   "cell_type": "code",
   "execution_count": 40,
   "id": "527040f2-f53d-4a0f-a370-8dd540bdff92",
   "metadata": {},
   "outputs": [
    {
     "ename": "TypeError",
     "evalue": "'int' object is not iterable",
     "output_type": "error",
     "traceback": [
      "\u001b[0;31m---------------------------------------------------------------------------\u001b[0m",
      "\u001b[0;31mTypeError\u001b[0m                                 Traceback (most recent call last)",
      "Cell \u001b[0;32mIn[40], line 27\u001b[0m\n\u001b[1;32m     24\u001b[0m prime_generator \u001b[38;5;241m=\u001b[39m generate_primes(\u001b[38;5;241m1000\u001b[39m)\n\u001b[1;32m     26\u001b[0m \u001b[38;5;28;01mfor\u001b[39;00m i \u001b[38;5;129;01min\u001b[39;00m \u001b[38;5;28mrange\u001b[39m(\u001b[38;5;241m20\u001b[39m):\n\u001b[0;32m---> 27\u001b[0m     \u001b[38;5;28mprint\u001b[39m(\u001b[38;5;28;43mlist\u001b[39;49m\u001b[43m(\u001b[49m\u001b[43m(\u001b[49m\u001b[38;5;28;43mnext\u001b[39;49m\u001b[43m(\u001b[49m\u001b[43mprime_generator\u001b[49m\u001b[43m)\u001b[49m\u001b[43m)\u001b[49m\u001b[43m)\u001b[49m)\n",
      "\u001b[0;31mTypeError\u001b[0m: 'int' object is not iterable"
     ]
    }
   ],
   "source": [
    "def is_prime(n):\n",
    "    if n <= 1:\n",
    "        return False\n",
    "    if n <= 3:\n",
    "        return True\n",
    "    if n % 2 == 0 or n % 3 == 0:\n",
    "        return False\n",
    "    i = 5\n",
    "    while i * i <= n:\n",
    "        if n % i == 0 or n % (i + 2) == 0:\n",
    "            return False\n",
    "        i += 6\n",
    "    return True\n",
    "\n",
    "def generate_primes(limit):\n",
    "    num = 2\n",
    "    count = 0\n",
    "    while num < limit and count < 20:\n",
    "        if is_prime(num):\n",
    "            yield num\n",
    "            count += 1\n",
    "        num += 1\n",
    "\n",
    "prime_generator = generate_primes(1000)\n",
    "\n",
    "for i in range(20):\n",
    "    printlist((next(prime_generator)))\n"
   ]
  },
  {
   "cell_type": "code",
   "execution_count": null,
   "id": "60c1ece5-5419-4761-b93a-15c540b5af2a",
   "metadata": {},
   "outputs": [],
   "source": []
  }
 ],
 "metadata": {
  "kernelspec": {
   "display_name": "Python 3 (ipykernel)",
   "language": "python",
   "name": "python3"
  },
  "language_info": {
   "codemirror_mode": {
    "name": "ipython",
    "version": 3
   },
   "file_extension": ".py",
   "mimetype": "text/x-python",
   "name": "python",
   "nbconvert_exporter": "python",
   "pygments_lexer": "ipython3",
   "version": "3.10.8"
  }
 },
 "nbformat": 4,
 "nbformat_minor": 5
}
